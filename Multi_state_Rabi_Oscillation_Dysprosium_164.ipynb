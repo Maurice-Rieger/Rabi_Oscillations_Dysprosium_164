{
 "cells": [
  {
   "attachments": {},
   "cell_type": "markdown",
   "metadata": {},
   "source": [
    "## An interactive Notebook simulating the time evolution of the Zeemann sublevel population in bosonic Dysprosium 164 under RF excitation\n",
    "\n",
    "### README\n",
    "Author: Maurice Rieger<br>\n",
    "Date: 2023-05-23<br>\n",
    "\n",
    "### About\n",
    "Time evolution of the state population in bosonic Dysprosium 164 during RF-coupling. "
   ]
  },
  {
   "cell_type": "code",
   "execution_count": 1,
   "metadata": {},
   "outputs": [],
   "source": [
    "import sys\n",
    "sys.path.append('../../')\n",
    "import matplotlib \n",
    "import matplotlib.pyplot as plt\n",
    "import numpy as np\n",
    "from numpy import linalg as LA \n",
    "import scipy.linalg as LA\n",
    "from scipy.optimize import root_scalar\n",
    "from scipy.optimize import curve_fit\n",
    "from scipy import integrate\n",
    "from scipy.stats import chi2\n",
    "from __future__ import print_function\n",
    "from ipywidgets import interact, interactive, fixed, interact_manual\n",
    "import ipywidgets as widgets\n",
    "from matplotlib.animation import FuncAnimation\n"
   ]
  },
  {
   "attachments": {},
   "cell_type": "markdown",
   "metadata": {},
   "source": [
    "#### First we define general constants: "
   ]
  },
  {
   "cell_type": "code",
   "execution_count": 2,
   "metadata": {},
   "outputs": [],
   "source": [
    "hbar = 6.62607015*10**(-34) / (2*np.pi)\n",
    "h = 6.62607015*10**(-34)\n",
    "e = 1.602176634*10**(-19) # Coulomb \n",
    "m_e = 9.1093837015*10**(-31) # kg \n",
    "mu_B = 5.7883818060*10**(-5) # in eV/T\n",
    "mu_B_J = 9.2740100783*10**(-24) # in J/T\n",
    "mu_0 = 1.25663706 * 10**(-6) #m kg s^-2 A^-2\n",
    "k_B = 1.38064852* 10**(-23) # m^2 kg s^-2 K^-1\n",
    "u = 1.66053906660*10**(-27) # kg "
   ]
  },
  {
   "cell_type": "markdown",
   "metadata": {},
   "source": [
    "#### We define constants of the Dy164 ground state"
   ]
  },
  {
   "cell_type": "code",
   "execution_count": 3,
   "metadata": {},
   "outputs": [],
   "source": [
    "# Quantum numbers (orbital, spin, total): \n",
    "L = 6 \n",
    "S = 2 \n",
    "J = 8 \n",
    "\n",
    "# Mass and g-factor: \n",
    "m = 162*u\n",
    "g_J = 1+(J*(J+1)+S*(S+1)-L*(L+1))/(2*J*(J+1))"
   ]
  },
  {
   "attachments": {},
   "cell_type": "markdown",
   "metadata": {},
   "source": [
    "#### Here we define the system parameters: "
   ]
  },
  {
   "cell_type": "code",
   "execution_count": 4,
   "metadata": {},
   "outputs": [],
   "source": [
    "# Radio frequency field strength in Gauss: \n",
    "B_RF = 2.4/1000   \n",
    "\n",
    "# Detuning from the resonance frequency in kHz: \n",
    "z = 0               \n"
   ]
  },
  {
   "attachments": {},
   "cell_type": "markdown",
   "metadata": {},
   "source": [
    "#### Now we define the Hamiltonian and the initial condition: "
   ]
  },
  {
   "cell_type": "code",
   "execution_count": 5,
   "metadata": {},
   "outputs": [],
   "source": [
    "# Calculate the Rabi frequency:  \n",
    "\n",
    "Omega = g_J* mu_B_J/hbar *B_RF / 10**4  \n",
    "Rabi = Omega/16 *np.sqrt(2*J) \n",
    "tvals = np.linspace(0,0.0005,1000)\n",
    "\n",
    "# We define the Hamiltonian: \n",
    "\n",
    "def H_diag_real(J,z):\n",
    "    Mat =  np.zeros(( int(2*J +1) ,int(2*J +1) ))\n",
    "    for i in range( 0, int(2*J +1) ):\n",
    "        mJ = J - i\n",
    "        Mat[i,i] = - hbar * mJ * z * 1000\n",
    "    return Mat\n",
    "\n",
    "def J_l_offdiag_real(J,Omega_1):\n",
    "    Mat =  np.zeros(( int(2*J+1) ,int(2*J+1) ))\n",
    "    for i in range( 0, int(2*J) ):\n",
    "        mJ = J - i\n",
    "        Mat[i+1,i] = -Omega_1/4 *hbar * np.sqrt( J*(J+1) - mJ*(mJ-1) )\n",
    "    return Mat\n",
    "\n",
    "def J_r_offdiag_real(J,Omega_1):\n",
    "    Mat = np.transpose(J_l_offdiag_real(J,Omega_1))\n",
    "    return Mat\n",
    "\n",
    "def H_real(J,z,Omega_1):\n",
    "    Mat = J_l_offdiag_real(J,Omega_1) + J_r_offdiag_real(J,Omega_1) + H_diag_real(J,z)\n",
    "    return Mat\n",
    "\n",
    "\n",
    "# The system is initially in the ground state: \n",
    "\n",
    "initial = []\n",
    "\n",
    "for i in range(0,17): \n",
    "    if i < 16: \n",
    "        initial.append(0)\n",
    "    else:\n",
    "        initial.append(1)\n",
    "\n",
    "initial = np.array(initial)\n"
   ]
  },
  {
   "attachments": {},
   "cell_type": "markdown",
   "metadata": {},
   "source": [
    "## Interactive time evolution: "
   ]
  },
  {
   "cell_type": "code",
   "execution_count": 6,
   "metadata": {},
   "outputs": [
    {
     "data": {
      "application/vnd.jupyter.widget-view+json": {
       "model_id": "a970981e85bf4866bbb9f47b102848c3",
       "version_major": 2,
       "version_minor": 0
      },
      "text/plain": [
       "interactive(children=(IntSlider(value=0, description='z', max=50, min=-50), FloatSlider(value=5.0, description…"
      ]
     },
     "metadata": {},
     "output_type": "display_data"
    }
   ],
   "source": [
    "def Plot_real(z,B_RF): \n",
    "    Omega = g_J* mu_B_J/hbar *B_RF / 10**4 /10**3 \n",
    "    Rabi = Omega/16 *np.sqrt(2*J) \n",
    "    evals_real, evecs_real = LA.eigh(H_real(J,z,Omega))\n",
    "    coefficients_real = evecs_real.conj().T @ initial \n",
    "    Probabilities_real = np.transpose([np.abs(evecs_real @ (np.exp(-1j*evals_real*t/hbar)*coefficients_real))**2 for t in tvals])\n",
    "\n",
    "    fig = plt.figure()\n",
    "    fig.set_size_inches(11,8)\n",
    "    plt.rc('font', size=14)\n",
    "\n",
    "    plt.plot(tvals*Rabi/np.pi,Probabilities_real[16], color = \"indianred\",label=\"$P=|<\\psi|-8>|^2$\")\n",
    "    plt.plot(tvals*Rabi/np.pi,Probabilities_real[15], color = \"maroon\",label=\"$P=|<\\psi|-7>|^2$\")\n",
    "    plt.plot(tvals*Rabi/np.pi,Probabilities_real[14], color = \"orangered\",label=\"$P=|<\\psi|-6>|^2$\")\n",
    "    plt.plot(tvals*Rabi/np.pi,Probabilities_real[13], color = \"darkorange\",label=\"$P=|<\\psi|-5>|^2$\")\n",
    "    plt.plot(tvals*Rabi/np.pi,Probabilities_real[12], color = \"burlywood\",label=\"$P=|<\\psi|-4>|^2$\")\n",
    "    plt.plot(tvals*Rabi/np.pi,Probabilities_real[11], color = \"goldenrod\",label=\"$P=|<\\psi|-3>|^2$\")\n",
    "    plt.plot(tvals*Rabi/np.pi,Probabilities_real[10], color = \"palegreen\",label=\"$P=|<\\psi|-2>|^2$\")\n",
    "    plt.plot(tvals*Rabi/np.pi,Probabilities_real[9], color = \"darkseagreen\",label=\"$P=|<\\psi|-1>|^2$\")\n",
    "    plt.plot(tvals*Rabi/np.pi,Probabilities_real[8], color = \"forestgreen\",label=\"$P=|<\\psi|~~0~>|^2$\")\n",
    "    plt.plot(tvals*Rabi/np.pi,Probabilities_real[7], color = \"aquamarine\",label=\"$P=|<\\psi|+1>|^2$\")\n",
    "    plt.plot(tvals*Rabi/np.pi,Probabilities_real[6], color = \"lightblue\",label=\"$P=|<\\psi|+2>|^2$\")\n",
    "    plt.plot(tvals*Rabi/np.pi,Probabilities_real[5], color = \"turquoise\",label=\"$P=|<\\psi|+3>|^2$\")\n",
    "    plt.plot(tvals*Rabi/np.pi,Probabilities_real[4], color = \"steelblue\",label=\"$P=|<\\psi|+4>|^2$\")\n",
    "    plt.plot(tvals*Rabi/np.pi,Probabilities_real[3], color = \"midnightblue\",label=\"$P=|<\\psi|+5>|^2$\")\n",
    "    plt.plot(tvals*Rabi/np.pi,Probabilities_real[2], color = \"orchid\",label=\"$P=|<\\psi|+6>|^2$\")\n",
    "    plt.plot(tvals*Rabi/np.pi,Probabilities_real[1], color = \"indigo\",label=\"$P=|<\\psi|+7>|^2$\")\n",
    "    plt.plot(tvals*Rabi/np.pi,Probabilities_real[0], color = \"black\",label=\"$P=|<\\psi|+8>|^2$\")\n",
    "\n",
    "    plt.legend(bbox_to_anchor=(1.03,1), loc=\"upper left\")\n",
    "    plt.ylabel(f\"Probability of occupation\")\n",
    "    plt.xlabel('Time $[T_{Rabi}]$')\n",
    "    plt.title(f\"State population during a RF pulse over time (detuning: f={z} kHz)\",fontsize=16)\n",
    "    plt.grid(True)\n",
    "\n",
    "    return()\n",
    "\n",
    "interact(Plot_real, z=(-50,50,1), B_RF=(0,10,0.1) );"
   ]
  }
 ],
 "metadata": {
  "kernelspec": {
   "display_name": "Python 3",
   "language": "python",
   "name": "python3"
  },
  "language_info": {
   "codemirror_mode": {
    "name": "ipython",
    "version": 3
   },
   "file_extension": ".py",
   "mimetype": "text/x-python",
   "name": "python",
   "nbconvert_exporter": "python",
   "pygments_lexer": "ipython3",
   "version": "3.11.2"
  },
  "orig_nbformat": 4
 },
 "nbformat": 4,
 "nbformat_minor": 2
}
